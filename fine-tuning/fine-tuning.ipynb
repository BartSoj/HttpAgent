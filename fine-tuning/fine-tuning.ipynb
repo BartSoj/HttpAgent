{
 "cells": [
  {
   "metadata": {},
   "cell_type": "markdown",
   "source": "https://platform.openai.com/docs/guides/fine-tuning/create-a-fine-tuned-model",
   "id": "67123dd54fa0d27f"
  },
  {
   "metadata": {
    "ExecuteTime": {
     "end_time": "2024-09-12T11:35:24.622240Z",
     "start_time": "2024-09-12T11:35:24.601130Z"
    }
   },
   "cell_type": "code",
   "source": [
    "import json\n",
    "from datetime import date"
   ],
   "id": "64dd1825a1166e9e",
   "outputs": [],
   "execution_count": 4
  },
  {
   "metadata": {
    "ExecuteTime": {
     "end_time": "2024-09-12T11:35:26.534453Z",
     "start_time": "2024-09-12T11:35:26.513785Z"
    }
   },
   "cell_type": "code",
   "source": [
    "with open('send_api_request.json', 'r') as function_file:\n",
    "    tools = [json.load(function_file)]\n",
    "\n",
    "with open('instructions.txt', 'r') as instructions_file:\n",
    "    instruction_message = {\"role\": \"system\", \"content\": instructions_file.read()}\n",
    "\n",
    "\n",
    "def convert_jsonl_to_text(input_file, output_file):\n",
    "    with open(input_file, 'r') as infile, open(output_file, 'w') as outfile:\n",
    "        input_json = json.load(infile)\n",
    "        items_count = len(input_json)\n",
    "        for i, item in enumerate(input_json):\n",
    "            item[\"messages\"].insert(0, instruction_message)\n",
    "            item[\"tools\"] = tools\n",
    "            output_item = json.dumps(item)\n",
    "            outfile.write(output_item)\n",
    "            if i < items_count - 1:\n",
    "                outfile.write('\\n')"
   ],
   "id": "c4c4ea00cb8b76f5",
   "outputs": [],
   "execution_count": 5
  },
  {
   "metadata": {
    "ExecuteTime": {
     "end_time": "2024-09-12T11:35:37.519290Z",
     "start_time": "2024-09-12T11:35:37.508717Z"
    }
   },
   "cell_type": "code",
   "source": [
    "date = date.today().strftime(\"%Y-%m-%d\")\n",
    "job_file_name = f\"http-agent-{date}.jsonl\"\n",
    "input_file = f'datasets/{job_file_name}'\n",
    "output_file = f'datasets/datasets_processed/{job_file_name}'\n",
    "convert_jsonl_to_text(input_file, output_file)"
   ],
   "id": "5c197bc7a71f4df4",
   "outputs": [],
   "execution_count": 6
  },
  {
   "cell_type": "code",
   "execution_count": null,
   "id": "46df0dabd1166b8f",
   "metadata": {
    "collapsed": true
   },
   "outputs": [],
   "source": [
    "from openai import OpenAI\n",
    "\n",
    "client = OpenAI()"
   ]
  },
  {
   "metadata": {},
   "cell_type": "code",
   "outputs": [],
   "execution_count": null,
   "source": [
    "client.files.create(\n",
    "    file=open(output_file, \"rb\"),\n",
    "    purpose=\"fine-tune\"\n",
    ")"
   ],
   "id": "initial_id"
  },
  {
   "metadata": {},
   "cell_type": "code",
   "outputs": [],
   "execution_count": null,
   "source": [
    "client.fine_tuning.jobs.create(\n",
    "    training_file=\"file-abc123\",\n",
    "    model=\"gpt-4o-mini\"\n",
    ")"
   ],
   "id": "c421de0a1afe0d36"
  },
  {
   "metadata": {},
   "cell_type": "code",
   "outputs": [],
   "execution_count": null,
   "source": [
    "from openai import OpenAI\n",
    "\n",
    "client = OpenAI()\n",
    "\n",
    "# List 10 fine-tuning jobs\n",
    "client.fine_tuning.jobs.list(limit=10)\n",
    "\n",
    "# Retrieve the state of a fine-tune\n",
    "client.fine_tuning.jobs.retrieve(\"ftjob-abc123\")\n",
    "\n",
    "# Cancel a job\n",
    "client.fine_tuning.jobs.cancel(\"ftjob-abc123\")\n",
    "\n",
    "# List up to 10 events from a fine-tuning job\n",
    "client.fine_tuning.jobs.list_events(fine_tuning_job_id=\"ftjob-abc123\", limit=10)\n",
    "\n",
    "# Delete a fine-tuned model (must be an owner of the org the model was created in)\n",
    "client.models.delete(\"ft:gpt-3.5-turbo:acemeco:suffix:abc123\")"
   ],
   "id": "bee3c7f9fccf7235"
  }
 ],
 "metadata": {
  "kernelspec": {
   "display_name": "Python 3",
   "language": "python",
   "name": "python3"
  },
  "language_info": {
   "codemirror_mode": {
    "name": "ipython",
    "version": 2
   },
   "file_extension": ".py",
   "mimetype": "text/x-python",
   "name": "python",
   "nbconvert_exporter": "python",
   "pygments_lexer": "ipython2",
   "version": "2.7.6"
  }
 },
 "nbformat": 4,
 "nbformat_minor": 5
}
